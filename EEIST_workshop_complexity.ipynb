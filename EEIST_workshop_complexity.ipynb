{
 "cells": [
  {
   "cell_type": "markdown",
   "metadata": {},
   "source": [
    "# If using Google Colab"
   ]
  },
  {
   "cell_type": "code",
   "execution_count": null,
   "metadata": {},
   "outputs": [],
   "source": [
    "!git clone https://github.com/jorisbc/EEIST_complexity"
   ]
  },
  {
   "cell_type": "code",
   "execution_count": null,
   "metadata": {},
   "outputs": [],
   "source": [
    "!ls EEIST_complexity"
   ]
  },
  {
   "cell_type": "markdown",
   "metadata": {},
   "source": [
    "# Main"
   ]
  },
  {
   "cell_type": "code",
   "execution_count": null,
   "metadata": {},
   "outputs": [],
   "source": [
    "import numpy as np\n",
    "import pandas as pd\n",
    "import networkx as nx\n",
    "import matplotlib.pyplot as plt"
   ]
  },
  {
   "cell_type": "markdown",
   "metadata": {},
   "source": [
    "# Read and explore data"
   ]
  },
  {
   "cell_type": "code",
   "execution_count": null,
   "metadata": {},
   "outputs": [],
   "source": [
    "df = pd.read_csv('country_product_export_2019.zip', index_col=None)\n",
    "df.head()"
   ]
  },
  {
   "cell_type": "code",
   "execution_count": null,
   "metadata": {},
   "outputs": [],
   "source": [
    "pivot = df.pivot_table(columns=??, index=??, values=??, aggfunc=np.mean, fill_value=0)\n",
    "pivot.tail()"
   ]
  },
  {
   "cell_type": "code",
   "execution_count": null,
   "metadata": {},
   "outputs": [],
   "source": [
    "pivot[pivot.index.str.contains('Cocoa', case=False)]"
   ]
  },
  {
   "cell_type": "code",
   "execution_count": null,
   "metadata": {},
   "outputs": [],
   "source": [
    "# make a bar plot showing the top 15 exports of one of the cacao products\n",
    "cacao_product_export_sorted = pivot.loc[??, :].sort_values(ascending=??).head(??)\n",
    "\n",
    "cacao_product_export_sorted.plot(kind=??, figsize=(10, 3))"
   ]
  },
  {
   "cell_type": "markdown",
   "metadata": {},
   "source": [
    "# Create M matrix"
   ]
  },
  {
   "cell_type": "markdown",
   "metadata": {},
   "source": [
    "$$\\text{RCA}_{cp} = \\frac{x_{cp} / x_p}{x_c / x}$$\n",
    "\n",
    "$$ M_{cp} = \\text{RCA}_{cp} > 1$$"
   ]
  },
  {
   "cell_type": "code",
   "execution_count": null,
   "metadata": {},
   "outputs": [],
   "source": [
    "x_product = pivot.??\n",
    "x_country = pivot.??\n",
    "x_total = pivot.??.??"
   ]
  },
  {
   "cell_type": "code",
   "execution_count": null,
   "metadata": {},
   "outputs": [],
   "source": [
    "rca = (pivot / x_product).div(x_country / x_total, axis=0)"
   ]
  },
  {
   "cell_type": "code",
   "execution_count": null,
   "metadata": {},
   "outputs": [],
   "source": [
    "rca['Netherlands'].sort_values(ascending=False).head(8).plot(kind='barh', figsize=(5, 8))"
   ]
  },
  {
   "cell_type": "code",
   "execution_count": null,
   "metadata": {},
   "outputs": [],
   "source": [
    "# The M matrix is a matrix of 1s and 0s, where Mij = 1 if country i exports product j with RCA > 1, and 0 otherwise.\n",
    "M = np.heaviside(??)"
   ]
  },
  {
   "cell_type": "markdown",
   "metadata": {},
   "source": [
    "## Create product space adjacency matrix\n",
    "\n",
    "between i and j at time t: \n",
    "$$ \\phi_{i,j} = \\min\\left[ P(RCAx_{i} | RCAx{j}), P(RCAx_{j} | RCAx{i}) \\right]$$\n",
    "\n",
    ", where, empirically:\n",
    "\n",
    "$$ P(RCAx_{i} | RCAx_{j}) = \\frac{\\# (RCAx_{i} \\& RCAx_{j})}{\\# RCA_{j}} $$\n",
    "\n",
    "So, using M, we have\n",
    "\n",
    "$$P(RCAx_{p} | RCAx_{p'})  = \\frac{\\sum_c M_{cp} * M_{cp'} }{ \\sum_c M_{cp'} }$$"
   ]
  },
  {
   "cell_type": "code",
   "execution_count": null,
   "metadata": {},
   "outputs": [],
   "source": [
    "P_RCA = M.dot(M.transpose()) / np.diag(M.dot(M.transpose()))\n",
    "\n",
    "# make symmetric by taking the minimum of the two values\n",
    "phi = pd.concat([P_RCA, P_RCA.transpose()]).groupby(level=0).min()"
   ]
  },
  {
   "cell_type": "code",
   "execution_count": null,
   "metadata": {},
   "outputs": [],
   "source": [
    "# make list\n",
    "phi_list = phi.stack()\n",
    "\n",
    "# sort by value\n",
    "phi_list.??(ascending=False, inplace=True)\n",
    "\n",
    "# remove diagonal\n",
    "phi_list = phi_list[phi_list.index.get_level_values(0) != phi_list.index.get_level_values(1)]\n",
    "\n",
    "# rename multiindex and make dataframe\n",
    "phi_list.index.names = ['product1', 'product2']\n",
    "phi_list.name = 'phi'\n",
    "phi_list = phi_list.to_frame()"
   ]
  },
  {
   "cell_type": "code",
   "execution_count": null,
   "metadata": {},
   "outputs": [],
   "source": [
    "pd.set_option('display.max_colwidth', 700)\n",
    "phi_list.head(5)"
   ]
  },
  {
   "cell_type": "code",
   "execution_count": null,
   "metadata": {},
   "outputs": [],
   "source": [
    "display(phi_list[75:100])"
   ]
  },
  {
   "cell_type": "markdown",
   "metadata": {},
   "source": [
    "# Create 'product spacee' network using networkx packagk"
   ]
  },
  {
   "cell_type": "code",
   "execution_count": null,
   "metadata": {},
   "outputs": [],
   "source": [
    "# Phi can be used to create a network of products: the product space\n",
    "G = nx.from_pandas_edgelist(phi_list.reset_index()[:10000], source=??, target=??, edge_attr=??)"
   ]
  },
  {
   "cell_type": "code",
   "execution_count": null,
   "metadata": {},
   "outputs": [],
   "source": [
    "# calculate minimum spanning tree (keep everything connected but only via the strongest connections)\n",
    "\n",
    "# set phi to -phi\n",
    "for u, v, d in G.edges(data=True):\n",
    "    d['phi'] = -d['phi']\n",
    "\n",
    "# get maximum spanning tree\n",
    "T = nx.maximum_spanning_tree(G, weight='phi')\n",
    "\n",
    "# set phi to -phi\n",
    "for u, v, d in T.edges(data=True):\n",
    "    d['phi'] = -d['phi']"
   ]
  },
  {
   "cell_type": "code",
   "execution_count": null,
   "metadata": {},
   "outputs": [],
   "source": [
    "# draw 'product space' network\n",
    "plt.figure(figsize=(10, 10))\n",
    "pos = nx.spring_layout(T, k=0.1, weight=??)\n",
    "\n",
    "edge_width = [1*d['phi'] for (u, v, d) in T.edges(data=True)]\n",
    "\n",
    "nx.draw(T, pos, node_size=10, width=??, edge_color='grey', node_color='grey', with_labels=False)"
   ]
  },
  {
   "cell_type": "markdown",
   "metadata": {},
   "source": [
    "# Country - product density"
   ]
  },
  {
   "cell_type": "markdown",
   "metadata": {},
   "source": [
    "$$ d^c_j = \\frac{\\sum_i M_{ci} \\phi_{ij}}{\\sum_i \\phi_{ij}} $$"
   ]
  },
  {
   "cell_type": "code",
   "execution_count": null,
   "metadata": {},
   "outputs": [],
   "source": [
    "country = ?? # choose a country"
   ]
  },
  {
   "cell_type": "code",
   "execution_count": null,
   "metadata": {},
   "outputs": [],
   "source": [
    "competitive_products = M[M[country] == ?].index"
   ]
  },
  {
   "cell_type": "code",
   "execution_count": null,
   "metadata": {},
   "outputs": [],
   "source": [
    "# all the products that country ?? is 'competitive' in\n",
    "competitive_products"
   ]
  },
  {
   "cell_type": "code",
   "execution_count": null,
   "metadata": {},
   "outputs": [],
   "source": [
    "proximity_to_country = pd.DataFrame(index=phi.index, columns=['proximity'])"
   ]
  },
  {
   "cell_type": "code",
   "execution_count": null,
   "metadata": {},
   "outputs": [],
   "source": [
    "# it is still empty now:\n",
    "proximity_to_country"
   ]
  },
  {
   "cell_type": "code",
   "execution_count": null,
   "metadata": {},
   "outputs": [],
   "source": [
    "# help function for next step\n",
    "def calc_proximity(prod, competitive_products, phi):\n",
    "    proximity = phi.loc[prod, competitive_products].sum() / phi.loc[??, :].sum()\n",
    "    return proximity"
   ]
  },
  {
   "cell_type": "code",
   "execution_count": null,
   "metadata": {},
   "outputs": [],
   "source": [
    "# loop over each product and calculate proximity to country of that product\n",
    "\n",
    "for product in proximity_to_country.index:\n",
    "    proximity_to_country.loc[product, 'proximity'] = calc_proximity(??, ??, phi)"
   ]
  },
  {
   "cell_type": "code",
   "execution_count": null,
   "metadata": {},
   "outputs": [],
   "source": [
    "# display the top and bottom 5 products in terms of proximity to country\n",
    "proximity_to_country.sort_values(by='proximity', ascending=False, inplace=True)"
   ]
  },
  {
   "cell_type": "markdown",
   "metadata": {},
   "source": [
    "# visualise proximity with RCA and PCI"
   ]
  },
  {
   "cell_type": "code",
   "execution_count": null,
   "metadata": {},
   "outputs": [],
   "source": [
    "# if google colab\n",
    "import EEIST_complexity.complexity as complexity"
   ]
  },
  {
   "cell_type": "code",
   "execution_count": null,
   "metadata": {},
   "outputs": [],
   "source": [
    "# if on local machine\n",
    "import complexity"
   ]
  },
  {
   "cell_type": "code",
   "execution_count": null,
   "metadata": {},
   "outputs": [],
   "source": [
    "# calculate the ECI and PCI\n",
    "M, eci, eci_list, pci, pci_list = complexity.pivot_to_eci_pci(pivot)"
   ]
  },
  {
   "cell_type": "code",
   "execution_count": null,
   "metadata": {},
   "outputs": [],
   "source": [
    "# reset index\n",
    "proximity_to_country = proximity_to_country.loc[pivot.index]"
   ]
  },
  {
   "cell_type": "code",
   "execution_count": null,
   "metadata": {},
   "outputs": [],
   "source": [
    "# add PCI to proximity_to_country\n",
    "proximity_to_country['pci'] = -pci # why -pci and not pci?"
   ]
  },
  {
   "cell_type": "code",
   "execution_count": null,
   "metadata": {},
   "outputs": [],
   "source": [
    "proximity_to_country.sort_values('pci', ascending=False)"
   ]
  },
  {
   "cell_type": "code",
   "execution_count": null,
   "metadata": {},
   "outputs": [],
   "source": [
    "# add rca to proximity_to_country\n",
    "proximity_to_country['rca'] = rca[??]"
   ]
  },
  {
   "cell_type": "code",
   "execution_count": null,
   "metadata": {},
   "outputs": [],
   "source": [
    "proximity_to_country.sort_values('rca', ascending=False)"
   ]
  },
  {
   "cell_type": "code",
   "execution_count": null,
   "metadata": {},
   "outputs": [],
   "source": [
    "import plotly.express as px"
   ]
  },
  {
   "cell_type": "code",
   "execution_count": null,
   "metadata": {},
   "outputs": [],
   "source": [
    "# interactive plot with names on hover\n",
    "fig = px.scatter(proximity_to_country, x=??, y=??, hover_name=proximity_to_country.index,\n",
    "                 title = 'Proximity to ' + country + ' vs. Product Complexity Index (PCI)')\n",
    "fig.show()"
   ]
  },
  {
   "cell_type": "code",
   "execution_count": null,
   "metadata": {},
   "outputs": [],
   "source": [
    "# interactive plot with names on hover\n",
    "rca_threshold = 1\n",
    "proximity_to_c_thresholded = proximity_to_country[proximity_to_country.rca < rca_threshold]\n",
    "fig = px.scatter(proximity_to_c_thresholded, x=??, y=??, hover_name=proximity_to_c_thresholded.index,\n",
    "                    title = 'Proximity to ' + country + ' vs. Product Complexity Index (PCI) for products with RCA < 1')\n",
    "\n",
    "fig.show()"
   ]
  },
  {
   "cell_type": "markdown",
   "metadata": {},
   "source": [
    "Compare with https://green-transition-navigator.org/"
   ]
  },
  {
   "cell_type": "markdown",
   "metadata": {},
   "source": [
    "# Ubiquity and diversity"
   ]
  },
  {
   "cell_type": "code",
   "execution_count": null,
   "metadata": {},
   "outputs": [],
   "source": [
    "ubiquity = M.sum(axis=1).sort_values(ascending=False)\n",
    "diversity = M.sum(axis=0).sort_values(ascending=False)"
   ]
  },
  {
   "cell_type": "code",
   "execution_count": null,
   "metadata": {},
   "outputs": [],
   "source": [
    "# top and bottom countries in terms of diversity\n",
    "diversity"
   ]
  },
  {
   "cell_type": "code",
   "execution_count": null,
   "metadata": {},
   "outputs": [],
   "source": [
    "# top and bottom products in terms of ubiquity\n",
    "ubiquity"
   ]
  },
  {
   "cell_type": "code",
   "execution_count": null,
   "metadata": {},
   "outputs": [],
   "source": [
    "plt.imshow(M.loc[ubiquity.index, diversity.index], interpolation='none', aspect='auto')"
   ]
  },
  {
   "cell_type": "code",
   "execution_count": null,
   "metadata": {},
   "outputs": [],
   "source": [
    "# why does this look like a triangle?"
   ]
  },
  {
   "cell_type": "markdown",
   "metadata": {},
   "source": [
    "# ECI and PCI calculation\n",
    "ECI is the eigenvector associated with the second largest eigenvalue of the matrix \n",
    "$$\\tilde{M} = D^{-1} M U^{-1} M^T $$\n",
    "\n",
    "$$\\tilde{M} = D^{-1} S$$\n",
    "\n",
    "$$S_{cc'} = \\sum_p \\frac{M_{cp} M_{c'p}}{u_c}$$\n",
    "\n",
    "Symmetricaly, PCI is the eigenvector associated with the second largest eigenvalue of the matrix \n",
    "$$\\hat{M} = U^{-1} M^T D^{-1} M $$"
   ]
  },
  {
   "cell_type": "code",
   "execution_count": null,
   "metadata": {},
   "outputs": [],
   "source": [
    "def M_to_Mhat(M):\n",
    "    # k_c = country . k_p = product. D = diversity, U = ubiquity\n",
    "\n",
    "    k_c = M.sum(axis=0) # diversity\n",
    "    k_p = M.sum(axis=1) # ubiquity\n",
    "    D = np.diag(k_c)\n",
    "    U = np.diag(k_p)\n",
    "\n",
    "    S_tilde = (M.T).dot(np.linalg.inv(U)).dot(M)\n",
    "    S_hat = (M).dot(np.linalg.inv(D)).dot(M.T)\n",
    "\n",
    "    M_tilde = np.linalg.inv(D).dot(S_tilde)\n",
    "    M_hat = np.linalg.inv(U).dot(S_hat)\n",
    "\n",
    "    return M_hat, M_tilde\n",
    "\n",
    "\n",
    "def Mtilde_to_complexity(M_tilde, M, type='eci'):\n",
    "    # the PCI is the eigenvector associated with the second largest right eigenvalue of M_hat: M_hat * eci = lambda*eci\n",
    "    # from the docs: a   eigvec[:,i] = eigval[i]        b   eigvec[:,i]\n",
    "    eigenValues, eigenVectors = linalg.eig(M_tilde)\n",
    "\n",
    "    idx = eigenValues.argsort()[::-1]   \n",
    "    eigenValues = eigenValues[idx]\n",
    "    eigenVectors = eigenVectors[:,idx]\n",
    "\n",
    "    # take second largest eigenvector\n",
    "    pci = np.real(eigenVectors[:, 1])\n",
    "    \n",
    "    idx = pci.argsort()[::-1]\n",
    "    if type == 'eci':\n",
    "        pci_list = M.dropna(axis=1).columns[idx]\n",
    "    elif type == 'pci':\n",
    "        pci_list = M.dropna().index[idx]\n",
    "\n",
    "    return pci, pci_list"
   ]
  }
 ],
 "metadata": {
  "kernelspec": {
   "display_name": "base",
   "language": "python",
   "name": "python3"
  },
  "language_info": {
   "codemirror_mode": {
    "name": "ipython",
    "version": 3
   },
   "file_extension": ".py",
   "mimetype": "text/x-python",
   "name": "python",
   "nbconvert_exporter": "python",
   "pygments_lexer": "ipython3",
   "version": "3.8.17"
  }
 },
 "nbformat": 4,
 "nbformat_minor": 2
}
